{
 "cells": [
  {
   "cell_type": "markdown",
   "metadata": {},
   "source": [
    "# <b>Interactions between Edge Dislocations\n",
    "    \n",
    "    "
   ]
  },
  {
   "cell_type": "markdown",
   "metadata": {},
   "source": [
    "### Objective: \n",
    "Take a random distribution of edge dislocations(+ve and -ve) in an area, and apply the dislocation dynamics to show the change in position with resect to time."
   ]
  },
  {
   "cell_type": "markdown",
   "metadata": {},
   "source": [
    "### Dislocation: \n",
    "Dislocations are another type of defect in crystals. Dislocations are areas were the atoms are out of position in the crystal structure. Dislocations are generated and move when a stress is applied. The motion of dislocations allows slip – plastic deformation to occur.\n"
   ]
  },
  {
   "cell_type": "markdown",
   "metadata": {},
   "source": [
    "### Interaction between dislocations:\n",
    "\n",
    "1. Arbitrarily curved dislocations with identical b on the same glide plane will always repel each other.\n",
    "![title](1.gif)\n",
    "2. Arbitrary dislocations with opposite b vectors on the same glide plane will attract and annihilate each other\n",
    "![title](2.gif)\n",
    "\n",
    "Edge dislocations with identical or opposite Burgers vector b on neighboring glide planes may attract or repulse each other, depending on the precise geometry. The blue double arrows in the picture below thus may signify repulsion or attraction.\n",
    "![title](3.gif)\n"
   ]
  },
  {
   "cell_type": "markdown",
   "metadata": {},
   "source": [
    "### **The general formula for the forces between edge dislocations in the geometry shown above is:**\n",
    "$$\\tau_{xy} = \\frac{Gb}{2\\pi(1-\\nu)}x\\frac{x^2 - y^2}{(x^2 + y^2)^2}$$\n",
    "$$\\sigma_{yy} = \\frac{Gb}{2\\pi(1-\\nu)}y\\frac{x^2 - y^2}{(x^2 + y^2)^2}$$\n",
    "$$\\sigma_{xx} = \\frac{-Gb}{2\\pi(1-\\nu)}y\\frac{3x^2 + y^2}{(x^2 + y^2)^2}$$\n",
    "$$\\sigma_{zz} = \\nu(\\sigma_{xx}+\\sigma_{yy})$$"
   ]
  },
  {
   "cell_type": "markdown",
   "metadata": {},
   "source": [
    "### Peach Kohler Force:\n",
    "The Peach-Koehler equation predicts that a pure hydrostatic pressure will produce a force on an edge or mixed dislocation in a direction normal to its slip plane. Therefore it would appear that at high temperatures a hydrostatic pressure causes dislocations with edge components to climb.\n",
    "\n",
    "$$F_{x}= b_{x}\\sigma_{xy}+b_{y}\\sigma_{yy}+b_{z}\\sigma_{zy} $$\n",
    "\n",
    "$$F_{y}= -(b_{x}\\sigma_{xx}+b_{y}\\sigma_{xy}+b_{z}\\sigma_{xz}) $$\n"
   ]
  },
  {
   "cell_type": "markdown",
   "metadata": {},
   "source": [
    "Shown is the force between edge dislocations of identical and opposite Burgers vectors as a function of their normalized distance\n",
    "- The distance x between the dislocations is expressed in units of y, the distance of the glide planes.\n",
    "- The force changes from repulsive to attractive or vice verse for a distance x = y; i.e. if the dislocations are at an angle of 45o relative to the glide plane.\n",
    "- The 45o position is a stable equilibrium position for opposite Burgers vectors, because at this position F = 0, and dF/dx < 0.\n",
    "- For dislocations with identical b vectors, the stable position is at x = 0.\n",
    "![title](4.gif)"
   ]
  },
  {
   "cell_type": "markdown",
   "metadata": {},
   "source": [
    "### Stable Confuguration of Edge Dislocations:\n",
    "![title](equi.gif)"
   ]
  },
  {
   "cell_type": "markdown",
   "metadata": {},
   "source": [
    "### Discrete Dynamics of Edge Dislocations"
   ]
  },
  {
   "cell_type": "code",
   "execution_count": 6,
   "metadata": {},
   "outputs": [],
   "source": [
    "# %matplotlib notebook\n",
    "import numpy as np\n",
    "import matplotlib.pyplot as plt\n",
    "import matplotlib.animation as ani\n",
    "%matplotlib qt\n",
    "plt.ion()"
   ]
  },
  {
   "cell_type": "code",
   "execution_count": 7,
   "metadata": {},
   "outputs": [],
   "source": [
    "# find new 'x' positions of the dislocations after time step 'dt'\n",
    "def move(n,disl,G,b,nu,B,dt,b1):\n",
    "    D = G/(2*np.pi*(1-nu))\n",
    "    for i in range(n):\n",
    "        f1 = 0.0\n",
    "        f2 = 0.0\n",
    "        for j in range(n):       # calculate total force on ith dislocaiton\n",
    "            if (j != i):\n",
    "                f1 = f1 +  (D*b1[i]*b1[j]*((disl[0,i]-disl[0,j])**2-(disl[1,i]-disl[1,j])**2)*(disl[0,i]-disl[0,j]))/(((disl[0,i]-disl[0,j])**2+(disl[1,i]-disl[1,j])**2)**2)\n",
    "                f2 = f2 +  (-D*b1[i]*b1[j]*(3*(disl[0,i]-disl[0,j])**2+(disl[1,i]-disl[1,j])**2)*(disl[1,i]-disl[1,j]))/(((disl[0,i]-disl[0,j])**2+(disl[1,i]-disl[1,j])**2)**2)  \n",
    "\n",
    "        disl[0,i] = disl[0,i] + (f1/B)*dt         # move ith dislocation\n",
    "        disl[1,i] = disl[1,i] + (f2/B)*dt\n",
    "        if (disl[0,i] < 0):\n",
    "            disl[0,i] = 0\n",
    "        elif (disl[0,i] > 100):\n",
    "            disl[0,i] = 100\n",
    "        if (disl[1,i] < 0):\n",
    "            disl[1,i] = 0\n",
    "        elif (disl[1,i] > 100):\n",
    "            disl[1,i] = 100"
   ]
  },
  {
   "cell_type": "code",
   "execution_count": 8,
   "metadata": {},
   "outputs": [],
   "source": [
    "# updates display at each step\n",
    "def update(i,n,disl,line,G,b,nu,B,dt,b1):\n",
    "    move(n,disl,G,b,nu,B,dt,b1)\n",
    "    line.set_data(disl)\n",
    "    return line"
   ]
  },
  {
   "cell_type": "code",
   "execution_count": 18,
   "metadata": {},
   "outputs": [
    {
     "data": {
      "text/plain": [
       "<matplotlib.animation.FuncAnimation at 0x15299e00ac8>"
      ]
     },
     "execution_count": 18,
     "metadata": {},
     "output_type": "execute_result"
    }
   ],
   "source": [
    "n = 40\n",
    "disl = np.zeros((2,n),dtype = float)\n",
    "for i in range(n):\n",
    "    disl[0,i] = 100*np.random.ranf()\n",
    "    disl[1,i] = 100*np.random.ranf()\n",
    "#     x = 2*np.random.ranf()\n",
    "#     if(x<1):\n",
    "#         disl[3,i] = 0.3\n",
    "#     else:\n",
    "#         disl[3,i] = -0.3\n",
    "    \n",
    "disl[0,0] = 25.0\n",
    "disl[0,1] = 60.0\n",
    "G = 70\n",
    "\n",
    "b1 = np.zeros(n, dtype=float)\n",
    "for i in range(n):\n",
    "    x = 2*np.random.ranf()\n",
    "    if x<1:\n",
    "        b1[i] = -1\n",
    "    else:\n",
    "        b1[i] = 1\n",
    "b = 0.3 \n",
    "nu = 0.33\n",
    "B = 1.0\n",
    "dt = 0.002\n",
    "fig = plt.figure()\n",
    "ax = fig.add_subplot(111)\n",
    "ax.set_xlim(-10,100)\n",
    "ax.set_ylim(-10,100)\n",
    "line, = ax.plot([],[],'_', color\n",
    "                = 'g', markersize = 16)\n",
    "ax.text(-9, 95,\"Glide Plane\")\n",
    "ani.FuncAnimation(fig,update,fargs=(n,disl,line,G,b1,nu,B,dt,b1),interval=1)"
   ]
  },
  {
   "cell_type": "code",
   "execution_count": null,
   "metadata": {},
   "outputs": [],
   "source": []
  },
  {
   "cell_type": "code",
   "execution_count": null,
   "metadata": {},
   "outputs": [],
   "source": []
  }
 ],
 "metadata": {
  "kernelspec": {
   "display_name": "Python 3",
   "language": "python",
   "name": "python3"
  },
  "language_info": {
   "codemirror_mode": {
    "name": "ipython",
    "version": 3
   },
   "file_extension": ".py",
   "mimetype": "text/x-python",
   "name": "python",
   "nbconvert_exporter": "python",
   "pygments_lexer": "ipython3",
   "version": "3.6.7"
  }
 },
 "nbformat": 4,
 "nbformat_minor": 4
}
